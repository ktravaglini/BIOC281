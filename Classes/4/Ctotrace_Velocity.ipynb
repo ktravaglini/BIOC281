{
 "cells": [
  {
   "cell_type": "markdown",
   "metadata": {},
   "source": [
    "## Trajectory Inference Tutorial 4"
   ]
  },
  {
   "cell_type": "code",
   "execution_count": null,
   "metadata": {},
   "outputs": [],
   "source": [
    "suppressMessages(library(velocyto.R))\n",
    "library(tools)\n",
    "library(pagoda2)\n",
    "library(RColorBrewer)\n",
    "library(CytoTRACE)\n",
    "options(USE_OPENMP =1)"
   ]
  },
  {
   "cell_type": "markdown",
   "metadata": {},
   "source": [
    "### Data Import"
   ]
  },
  {
   "cell_type": "code",
   "execution_count": null,
   "metadata": {},
   "outputs": [],
   "source": [
    "ldat <- read.loom.matrices(\"MACA_bonemarrow_10x_subsetted.loom\")\n",
    "phenotable <- read.table(\"MACA_bonemarrow_10x_metadata.txt\", sep = \"\\t\", header = T)\n",
    "mat <- read.table(\"MACA_bonemarrow_10x_expr.txt\", sep = \"\\t\", row.names =1, header = T)"
   ]
  },
  {
   "cell_type": "markdown",
   "metadata": {},
   "source": [
    "### RNA velocity\n",
    "Pagoda2 processing"
   ]
  },
  {
   "cell_type": "code",
   "execution_count": null,
   "metadata": {},
   "outputs": [],
   "source": [
    "emat <- ldat$spliced\n",
    "rownames(emat) <- make.unique(rownames(emat))\n",
    "nmat <- ldat$unspliced\n",
    "# rownames(nmat) <- make.unique(rownames(nmat)\n",
    "r <- Pagoda2$new(emat, modelType = \"plain\", trim = 10, log.scale = T)\n",
    "r$adjustVariance(gam.k = 10)\n",
    "r$calculatePcaReduction(nPcs = 100, n.odgenes = 3e3, maxit = 300)\n",
    "r$makeKnnGraph(k = 30, type = \"PCA\", center = T, distance = \"cosine\")\n",
    "r$getKnnClusters(method = multilevel.community, type = \"PCA\", name = \"multilevel\")\n",
    "r$getEmbedding(type = \"PCA\", embeddingType = \"tSNE\", perplexity = 50, verbose = T)\n",
    "cluster.label <- r$clusters$PCA[[1]]\n",
    "names(cluster.label) <- colnames(emat)\n",
    "# cell.colors <- pagoda2:::fac2col(cluster.label)\n",
    "emb <- r$embeddings$PCA$tSNE\n",
    "cell.dist <- as.dist(1-armaCor(t(r$reductions$PCA)))\n",
    "emat <- filter.genes.by.cluster.expression(emat,cluster.label,min.max.cluster.average = 0.5)\n",
    "nmat <- filter.genes.by.cluster.expression(nmat,cluster.label,min.max.cluster.average = 0.05)"
   ]
  },
  {
   "cell_type": "markdown",
   "metadata": {},
   "source": [
    "### Generate RNA velocity object"
   ]
  },
  {
   "cell_type": "code",
   "execution_count": null,
   "metadata": {},
   "outputs": [],
   "source": [
    "rvel <- gene.relative.velocity.estimates(emat, nmat, deltaT = 1, kCells = 70, cell.dist = cell.dist, fit.quantile = 0.02, n.cores = 4)"
   ]
  },
  {
   "cell_type": "markdown",
   "metadata": {},
   "source": [
    "### Obtain PCA coordinates"
   ]
  },
  {
   "cell_type": "code",
   "execution_count": null,
   "metadata": {},
   "outputs": [],
   "source": [
    "pcs <- pca.velocity.plot(rvel, plot.cols=1, nPcs=4, cex=1.2, pcount=0.1, arrow.scale=0.5, return.details=F, show.grid.flow=F, n.cores = 4)\n",
    "emb <- pcs$epc@scores"
   ]
  },
  {
   "cell_type": "markdown",
   "metadata": {},
   "source": [
    "### CytoTRACE#"
   ]
  },
  {
   "cell_type": "code",
   "execution_count": null,
   "metadata": {},
   "outputs": [],
   "source": [
    "results <- CytoTRACE(mat, enableFast = F)\n",
    "cytotrace <- results$CytoTRACE"
   ]
  },
  {
   "cell_type": "markdown",
   "metadata": {},
   "source": [
    "### plot data\n",
    "#### Setup colors"
   ]
  },
  {
   "cell_type": "code",
   "execution_count": null,
   "metadata": {},
   "outputs": [],
   "source": [
    "rbPal <- colorRampPalette(brewer.pal(11, \"Spectral\"))\n",
    "pdf(\"rnavelocity_Marrow_10x.pdf\", width = 17.5, height = 5.25, useDingbats = FALSE)\n",
    "par(mfrow=c(1,3), mar = c(b=6, l=7, t=2, r=0))"
   ]
  },
  {
   "cell_type": "markdown",
   "metadata": {},
   "source": [
    "### Phenotype plot"
   ]
  },
  {
   "cell_type": "code",
   "execution_count": null,
   "metadata": {},
   "outputs": [],
   "source": [
    "phenotype <- as.character(unlist(phenotable$order))\n",
    "col2 <- rbPal(length(unique(phenotype)))\n",
    "names(col2) <- unique(phenotype[order(phenotable$order)])\n",
    "col2 <- col2[phenotype]\n",
    "plot(emb[,1], emb[,2], pch = 19, cex=2, col = ac(col2, 0.5), xlab=\"\", ylab=\"\", las = 1,\n",
    "     frame.plot = T,\n",
    "     cex.axis = 2.5, xaxt=\"n\")\n",
    "axis(1, cex.axis=2.5, padj=0.5)\n",
    "mtext(\"PC2\", cex=2, side=2, line = 4.5)\n",
    "mtext(\"PC1\", cex =2, side = 1, line=4.5)\n",
    "# plotCytoTRACE(results, emb = emb, phenotype = phenotable$phenotype)"
   ]
  },
  {
   "cell_type": "markdown",
   "metadata": {},
   "source": [
    "### CytoTRACE plot"
   ]
  },
  {
   "cell_type": "code",
   "execution_count": null,
   "metadata": {},
   "outputs": [],
   "source": [
    "par(mar = c(b=6, l=3.5, t=2, r=3.5))\n",
    "col3 <- rev(rbPal(length(cytotrace)))[as.numeric(cut(cytotrace, breaks = length(cytotrace)))]\n",
    "\n",
    "plot(emb[,1], emb[,2], pch = 19, cex=2, col = ac(col3, 0.5), xlab=\"\", ylab=\"\", yaxt=\"n\", las = 1,\n",
    "     frame.plot = T,\n",
    "     cex.axis = 2.5, xaxt=\"n\")\n",
    "axis(1, cex.axis=2.5, padj=0.5)\n",
    "mtext(\"PC1\", cex = 2, side = 1, line=4.5)"
   ]
  },
  {
   "cell_type": "markdown",
   "metadata": {},
   "source": [
    "### RNA velocity plot"
   ]
  },
  {
   "cell_type": "code",
   "execution_count": null,
   "metadata": {},
   "outputs": [],
   "source": [
    "par(mar = c(b=6, l=0, t=2, r=7))\n",
    "col4 <- rep(\"gray82\", length(phenotype))\n",
    "names(col4) <- colnames(rvel$projected)\n",
    "file <- show.velocity.on.embedding.cor(emb, rvel, n = 300, scale = \"sqrt\",\n",
    "                                       cell.colors = ac(col4,0.5), cex = 2, arrow.scale = 10,\n",
    "                                       n.cores = 4, show.grid.flow = T, min.grid.cell.mass = 0.5,\n",
    "                                       grid.n = 20, arrow.lwd = 2, do.par = F, xaxt = \"n\", yaxt = \"n\",\n",
    "                                       col.main = \"white\", col.lab = \"white\", return.details = T)\n",
    "axis(1, cex.axis=2.5, padj=0.5)\n",
    "mtext(\"PC1\", cex = 2, side = 1, line=4.5)\n",
    "dev.off()"
   ]
  },
  {
   "cell_type": "code",
   "execution_count": null,
   "metadata": {},
   "outputs": [],
   "source": []
  },
  {
   "cell_type": "code",
   "execution_count": null,
   "metadata": {},
   "outputs": [],
   "source": []
  },
  {
   "cell_type": "code",
   "execution_count": null,
   "metadata": {},
   "outputs": [],
   "source": []
  },
  {
   "cell_type": "code",
   "execution_count": null,
   "metadata": {},
   "outputs": [],
   "source": []
  },
  {
   "cell_type": "code",
   "execution_count": null,
   "metadata": {},
   "outputs": [],
   "source": []
  }
 ],
 "metadata": {
  "kernelspec": {
   "display_name": "R",
   "language": "R",
   "name": "ir"
  },
  "language_info": {
   "codemirror_mode": "r",
   "file_extension": ".r",
   "mimetype": "text/x-r-source",
   "name": "R",
   "pygments_lexer": "r",
   "version": "4.0.2"
  }
 },
 "nbformat": 4,
 "nbformat_minor": 4
}
