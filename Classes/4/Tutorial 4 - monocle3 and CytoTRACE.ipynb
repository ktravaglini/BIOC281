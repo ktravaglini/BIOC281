{
 "cells": [
  {
   "cell_type": "markdown",
   "metadata": {},
   "source": [
    "# Tutorial 4 - Working with monocle3"
   ]
  },
  {
   "cell_type": "markdown",
   "metadata": {},
   "source": [
    "## Load required packages"
   ]
  },
  {
   "cell_type": "code",
   "execution_count": null,
   "metadata": {},
   "outputs": [],
   "source": [
    "library(monocle3)\n",
    "library(useful)\n",
    "library(RColorBrewer)\n",
    "library(plotly)\n",
    "library(here)\n",
    "library(genieclust)\n",
    "library(grid)\n",
    "library(gridExtra)\n",
    "library(matrixStats)\n",
    "library(CytoTRACE)"
   ]
  },
  {
   "cell_type": "code",
   "execution_count": null,
   "metadata": {},
   "outputs": [],
   "source": [
    "here()"
   ]
  },
  {
   "cell_type": "markdown",
   "metadata": {},
   "source": [
    "## monocle3"
   ]
  },
  {
   "cell_type": "markdown",
   "metadata": {},
   "source": [
    "Monocle introduced the strategy of using RNA-Seq for single-cell trajectory analysis. Rather than purifying cells into discrete states experimentally, Monocle uses an algorithm to learn the sequence of gene expression changes each cell must go through as part of a dynamic biological process. Once it has learned the overall \"trajectory\" of gene expression changes, Monocle can place each cell at its proper position in the trajectory. See Cao et al (2019) _Nature_ for more details.\n",
    "\n",
    "For usage information, please see https://cole-trapnell-lab.github.io/monocle3/"
   ]
  },
  {
   "cell_type": "markdown",
   "metadata": {},
   "source": [
    "### Data ingest"
   ]
  },
  {
   "cell_type": "code",
   "execution_count": null,
   "metadata": {},
   "outputs": [],
   "source": [
    "# monocle3 expects raw counts or UMIs with associated cell and gene metadata\n",
    "# We read these in from the CSVs we saved in the PAGA and velocyto notebook\n",
    "# monocle3 requires the expression matrix to be a matrix or sparse matrix instead of\n",
    "# a data frame, so we coerce X to a dense matrix with as.matrix() and then a sparse\n",
    "# matrix with as(..., \"sparseMatrix\")\n",
    "#\n",
    "# Finally, we clean up a mismatch in the cellnames, which had an \"X\" prepended with gsub()\n",
    "#\n",
    "# monocle3 is also very picky about the order of the cells and genes matching,  so we order\n",
    "# all three tables using the order() command and then passing the results to the table\n",
    "# Remember in R that with a table, you access [rows, columns]\n",
    "X <- as(as.matrix(read.csv(here('MACA_bonemarrow_10x.csv'), row.names = 1)), \"sparseMatrix\")\n",
    "X <- X[order(rownames(X)),order(colnames(X))]\n",
    "colnames(X) <- gsub('X10X_', '10X_', colnames(X))\n",
    "\n",
    "obs <- read.csv(here('MACA_bonemarrow_10x_obs.csv'), row.names = 1)\n",
    "obs <- obs[order(rownames(obs)),,drop=FALSE]\n",
    "rownames(obs) <- gsub(':', '.', rownames(obs))\n",
    "\n",
    "var <- read.csv(here('MACA_bonemarrow_10x_var.csv'), row.names = 1)\n",
    "var['gene_short_name'] <- rownames(var)\n",
    "var['Gene'] <- NULL\n",
    "var <- var[order(rownames(var)),]"
   ]
  },
  {
   "cell_type": "code",
   "execution_count": null,
   "metadata": {},
   "outputs": [],
   "source": [
    "# Create a cell_data_set object, the default for monocle3\n",
    "cds <- new_cell_data_set(X, cell_metadata = obs, gene_metadata = var)\n",
    "cds"
   ]
  },
  {
   "cell_type": "code",
   "execution_count": null,
   "metadata": {},
   "outputs": [],
   "source": [
    "# Create metadata on the number of genes and UMIs detected per cell\n",
    "colData(cds)['nGene'] <- Matrix::colSums(cds@assays@data$counts > 0)\n",
    "colData(cds)['nUMIs'] <- Matrix::colSums(cds@assays@data$counts)"
   ]
  },
  {
   "cell_type": "markdown",
   "metadata": {},
   "source": [
    "### Explore cell_data_set object"
   ]
  },
  {
   "cell_type": "code",
   "execution_count": null,
   "metadata": {},
   "outputs": [],
   "source": [
    "# Acess the cell metadata\n",
    "colData(cds)"
   ]
  },
  {
   "cell_type": "code",
   "execution_count": null,
   "metadata": {},
   "outputs": [],
   "source": [
    "# Access the gene metadata\n",
    "rowData(cds)"
   ]
  },
  {
   "cell_type": "code",
   "execution_count": null,
   "metadata": {},
   "outputs": [],
   "source": [
    "# Access the UMIs, in this case two specific genes from the first 5 cells\n",
    "cds@assays@data$counts[c('Actb', 'Ubb'),  1:5]"
   ]
  },
  {
   "cell_type": "markdown",
   "metadata": {},
   "source": [
    "### monocle3 clustering"
   ]
  },
  {
   "cell_type": "code",
   "execution_count": null,
   "metadata": {},
   "outputs": [],
   "source": [
    "# Normalizes UMIs, log-transforms and scales them, and runs principle component analysis\n",
    "# Finally, select the number of principle components to use going forward\n",
    "# We use the highly variable genes identified by scanpy\n",
    "cds <- preprocess_cds(cds, num_dim = 6, use_genes = rowData(cds)$gene_short_name[rowData(cds)$highly_variable == 'True'], norm_method = \"log\")"
   ]
  },
  {
   "cell_type": "code",
   "execution_count": null,
   "metadata": {},
   "outputs": [],
   "source": [
    "# Plot the ratio of the variance explained by each principle component\n",
    "plot_pc_variance_explained(cds)"
   ]
  },
  {
   "cell_type": "code",
   "execution_count": null,
   "metadata": {},
   "outputs": [],
   "source": [
    "# Project selected principle components into two dimenions with UMAP\n",
    "# Use k=200 when constructing the nearest neighbor tree\n",
    "cds <- reduce_dimension(cds, reduction_method = \"UMAP\", preprocess_method = \"PCA\", umap.n_neighbors = 200)"
   ]
  },
  {
   "cell_type": "code",
   "execution_count": null,
   "metadata": {},
   "outputs": [],
   "source": [
    "# Cluster cells with the leiden algorithm using based on UMAP coordinates\n",
    "# This is different from how cells are clustered in Seurat and scanpy, which\n",
    "# use principle components. You can cluster on principle components with monocle3,\n",
    "# but you cannot then proceed to trajectory analysis. This quick may be fixed\n",
    "# soon as monocle3 is in beta (or a testing phase)\n",
    "cds <- cluster_cells(cds,\n",
    "                     reduction_method = \"UMAP\",\n",
    "                     k=200,\n",
    "                     cluster_method = \"leiden\",\n",
    "                     resolution=0.25)"
   ]
  },
  {
   "cell_type": "code",
   "execution_count": null,
   "metadata": {},
   "outputs": [],
   "source": [
    "# Contrust a trajectory based on the cell clustering, UMAP embedding, and nearest neighbor map\n",
    "# Conceptually similar to PAGA, but has a different underlying methology\n",
    "cds <- learn_graph(cds)"
   ]
  },
  {
   "cell_type": "code",
   "execution_count": null,
   "metadata": {},
   "outputs": [],
   "source": [
    "# Choose a root node among the HSCs\n",
    "cell_ids <- which(colData(cds)[, \"free_annotation\"] == \"Stem_Progenitors\")\n",
    "closest_vertex <- cds@principal_graph_aux[[\"UMAP\"]]$pr_graph_cell_proj_closest_vertex\n",
    "closest_vertex <- as.matrix(closest_vertex[colnames(cds), ])\n",
    "root_pr_nodes <- igraph::V(principal_graph(cds)[[\"UMAP\"]])$name[as.numeric(names(which.max(table(closest_vertex[cell_ids,]))))]\n",
    "\n",
    "# Order the cells in pseudotime from the. chosen root node based on the trajectory\n",
    "cds <- order_cells(cds, root_pr_nodes = root_pr_nodes)"
   ]
  },
  {
   "cell_type": "code",
   "execution_count": null,
   "metadata": {},
   "outputs": [],
   "source": [
    "# Plot the cells in the UMAP coordinates calculated above and color by annotation\n",
    "# partition, leiden clustering and psuedotime from above\n",
    "#\n",
    "# partition refers to different, unconnected trajectories in the same dataset\n",
    "# In this case, all of the cells should be connected and part of the same partition\n",
    "plot_cells(cds,\n",
    "           label_cell_groups = FALSE,\n",
    "           reduction_method = \"UMAP\",\n",
    "           color_cells_by = \"free_annotation\", \n",
    "           cell_size = 1)\n",
    "\n",
    "plot_cells(cds,\n",
    "           label_cell_groups = FALSE,\n",
    "           reduction_method = \"UMAP\",\n",
    "           color_cells_by = \"partition\", \n",
    "           cell_size = 1)\n",
    "\n",
    "plot_cells(cds,\n",
    "           label_cell_groups = FALSE,\n",
    "           reduction_method = \"UMAP\",\n",
    "           color_cells_by = \"cluster\", \n",
    "           cell_size = 1)\n",
    "\n",
    "plot_cells(cds,\n",
    "           label_cell_groups = FALSE,\n",
    "           reduction_method = \"UMAP\",\n",
    "           color_cells_by = \"pseudotime\", \n",
    "           cell_size = 1)\n",
    "           \n",
    "plot_cells(cds,\n",
    "           label_cell_groups = FALSE,\n",
    "           reduction_method = \"UMAP\",\n",
    "           color_cells_by = \"nGene\", \n",
    "           cell_size = 1)\n",
    "           \n",
    "plot_cells(cds,\n",
    "           label_cell_groups = FALSE,\n",
    "           reduction_method = \"UMAP\",\n",
    "           color_cells_by = \"nUMIs\", \n",
    "           cell_size = 1)"
   ]
  },
  {
   "cell_type": "markdown",
   "metadata": {},
   "source": [
    "### Identifying genes correlated with pseudotime"
   ]
  },
  {
   "cell_type": "code",
   "execution_count": null,
   "metadata": {},
   "outputs": [],
   "source": [
    "# graph_test() uses the monocle3 defined trajectory to test whether cells\n",
    "# in similar positions have co-correlated expression\n",
    "# We then filter for significant genes with the subset() command\n",
    "pr_test_res <- graph_test(cds, neighbor_graph=\"principal_graph\", cores=4)\n",
    "pr_deg_ids <- row.names(subset(pr_test_res, q_value < 0.05))\n",
    "\n",
    "# Once you have a set of genes that vary in some interesting way across pseudotime\n",
    "# monocle3 provides a means of grouping them into modules with find_gene_modules(),\n",
    "# which essentially runs UMAP on the genes (as opposed to the cells) and then groups\n",
    "# them into modules using Louvain community analysis\n",
    "gene_module_df <- find_gene_modules(cds[pr_deg_ids,], resolution=1e-2)"
   ]
  },
  {
   "cell_type": "code",
   "execution_count": null,
   "metadata": {},
   "outputs": [],
   "source": [
    "# Add the original signficant test scores to the gene_module_df table with cbind()\n",
    "gene_module_df <- cbind(gene_module_df, pr_test_res[gene_module_df$id, 'q_value',drop=FALSE])"
   ]
  },
  {
   "cell_type": "code",
   "execution_count": null,
   "metadata": {},
   "outputs": [],
   "source": [
    "# Use aggregate_gene_expression() to group expression of genes in each module among the cells in each \n",
    "# free annotation and then cluster the modules and aggregate annotations with hierarchical ward.D2\n",
    "# clustering in the pheatmap() function\n",
    "#\n",
    "# This uses many functions from the tidyverse such as tibbles (which are another form of tables in R)\n",
    "# and stringr to prepend \"Module\" before the module numbers.\n",
    "#\n",
    "cell_group_df <- tibble::tibble(cell=row.names(colData(cds)), cell_group=colData(cds)$free_annotation)\n",
    "agg_mat <- aggregate_gene_expression(cds, gene_module_df, cell_group_df)\n",
    "row.names(agg_mat) <- stringr::str_c(\"Module \", row.names(agg_mat))\n",
    "pheatmap::pheatmap(agg_mat, scale=\"column\", clustering_method=\"ward.D2\")"
   ]
  },
  {
   "cell_type": "code",
   "execution_count": null,
   "metadata": {},
   "outputs": [],
   "source": [
    "# Print the top 25 genes in each module, sorted by significance\n",
    "# Current module 3 associated with HSCs is shown\n",
    "tmp <- gene_module_df[gene_module_df$module == 3,]\n",
    "tmp[order(tmp$q_value, decreasing = FALSE)[1:25],]"
   ]
  },
  {
   "cell_type": "code",
   "execution_count": null,
   "metadata": {},
   "outputs": [],
   "source": [
    "# Plot the top 5 genes among all the cells differentiating from HSCs to granulocytes,\n",
    "# sorted by pseudotime from the above list. The cds object is subset to remove cells from the Monocyte lineage\n",
    "genes <- tmp$id[order(tmp$q_value, decreasing = FALSE)[1:5]]\n",
    "subset_cds <- cds[rowData(cds)$gene_short_name %in% genes,\n",
    "                       colData(cds)$free_annotation %in% c(\"Stem_Progenitors\", \"Granulocyte_progenitors\", \"Granulocytes\")]\n",
    "\n",
    "plot_genes_in_pseudotime(subset_cds, \n",
    "                         color_cells_by=\"free_annotation\",\n",
    "                         min_expr=0.5)"
   ]
  },
  {
   "cell_type": "code",
   "execution_count": null,
   "metadata": {},
   "outputs": [],
   "source": [
    "# Print the top 25 genes in each module, sorted by significance\n",
    "# Current module 13 associated with granulocytes is shown\n",
    "tmp <- gene_module_df[gene_module_df$module == 13,]\n",
    "tmp[order(tmp$q_value, decreasing = FALSE)[1:25],]"
   ]
  },
  {
   "cell_type": "code",
   "execution_count": null,
   "metadata": {},
   "outputs": [],
   "source": [
    "# Plot the top 5 genes among all the cells differentiating from HSCs to granulocytes,\n",
    "# sorted by pseudotime from the above list. The cds object is subset to remove cells from the Monocyte lineage\n",
    "genes <- tmp$id[order(tmp$q_value, decreasing = FALSE)[1:5]]\n",
    "subset_cds <- cds[rowData(cds)$gene_short_name %in% genes,\n",
    "                       colData(cds)$free_annotation %in% c(\"Stem_Progenitors\", \"Granulocyte_progenitors\", \"Granulocytes\")]\n",
    "\n",
    "plot_genes_in_pseudotime(subset_cds, \n",
    "                         color_cells_by=\"free_annotation\",\n",
    "                         min_expr=0.5)"
   ]
  },
  {
   "cell_type": "markdown",
   "metadata": {},
   "source": [
    "### Explore the monocle3 object further"
   ]
  },
  {
   "cell_type": "code",
   "execution_count": null,
   "metadata": {},
   "outputs": [],
   "source": [
    "# Access gene loadings from PCA (from first 5 genes and PCs)\n",
    "corner(cds@preprocess_aux$gene_loadings)"
   ]
  },
  {
   "cell_type": "code",
   "execution_count": null,
   "metadata": {},
   "outputs": [],
   "source": [
    "# Access ratio of variance explained by each loading\n",
    "cds@preprocess_aux$prop_var_expl"
   ]
  },
  {
   "cell_type": "code",
   "execution_count": null,
   "metadata": {},
   "outputs": [],
   "source": [
    "# Access igraph trajectory\n",
    "cds@principal_graph$UMAP"
   ]
  },
  {
   "cell_type": "code",
   "execution_count": null,
   "metadata": {},
   "outputs": [],
   "source": [
    "# Access clusters from UMAP projection (first 5 cells)\n",
    "head(cds@clusters$UMAP$clusters, 5)"
   ]
  },
  {
   "cell_type": "code",
   "execution_count": null,
   "metadata": {},
   "outputs": [],
   "source": [
    "# Access pseudotime from first 5 cells\n",
    "head(cds@principal_graph_aux@listData$UMAP$pseudotime, 5)"
   ]
  },
  {
   "cell_type": "markdown",
   "metadata": {},
   "source": [
    "## CytoTRACE"
   ]
  },
  {
   "cell_type": "markdown",
   "metadata": {},
   "source": [
    "CytoTRACE (Cellular (Cyto) Trajectory Reconstruction Analysis using gene Counts and Expression) is a computational method that predicts the differentiation state of cells from single-cell RNA-sequencing data. CytoTRACE leverages a simple, yet robust, determinant of developmental potential—the number of detectably expressed genes per cell, or gene counts. See Gulati et al (2020) _Science_ for details.\n",
    "\n",
    "For usage information please visit https://cytotrace.stanford.edu"
   ]
  },
  {
   "cell_type": "code",
   "execution_count": null,
   "metadata": {},
   "outputs": [],
   "source": [
    "# Run CytoTRACE on the dataset, using as.matrix() to convert it to the dense matrix\n",
    "# required by the algorithm\n",
    "results <- CytoTRACE(as.matrix(X), enableFast = F, ncores = 4)"
   ]
  },
  {
   "cell_type": "code",
   "execution_count": null,
   "metadata": {},
   "outputs": [],
   "source": [
    "# Print the metadata available from CytoTRACE\n",
    "names(results)"
   ]
  },
  {
   "cell_type": "code",
   "execution_count": null,
   "metadata": {},
   "outputs": [],
   "source": [
    "# Add the main metric into the cds we contructed for monocle3\n",
    "colData(cds)[,'CytoTRACE'] <- results$CytoTRACE"
   ]
  },
  {
   "cell_type": "code",
   "execution_count": null,
   "metadata": {},
   "outputs": [],
   "source": [
    "# Plot the free annotations, monocle3 pseudotime, PAGA pseudotime, and CytoTRACE\n",
    "# on the UMAP coordinates calculated above\n",
    "plot_cells(cds,\n",
    "           show_trajectory_graph = FALSE,\n",
    "           label_cell_groups = FALSE,\n",
    "           reduction_method = \"UMAP\",\n",
    "           color_cells_by = \"free_annotation\", \n",
    "           cell_size = 1)\n",
    "\n",
    "plot_cells(cds,\n",
    "           show_trajectory_graph = FALSE,\n",
    "           label_cell_groups = FALSE,\n",
    "           reduction_method = \"UMAP\",\n",
    "           color_cells_by = \"pseudotime\", \n",
    "           cell_size = 1)\n",
    "\n",
    "plot_cells(cds,\n",
    "           show_trajectory_graph = FALSE,\n",
    "           label_cell_groups = FALSE,\n",
    "           reduction_method = \"UMAP\",\n",
    "           color_cells_by = \"dpt_pseudotime\", \n",
    "           cell_size = 1)\n",
    "\n",
    "plot_cells(cds,\n",
    "           show_trajectory_graph = FALSE,\n",
    "           label_cell_groups = FALSE,\n",
    "           reduction_method = \"UMAP\",\n",
    "           color_cells_by = \"CytoTRACE\", \n",
    "           cell_size = 1)"
   ]
  },
  {
   "cell_type": "markdown",
   "metadata": {},
   "source": [
    "**Question:** How does the psuedotime from monocle3 (first), PAGA (second), and CytoTRACE (third) compare? If one is an outlier, are there other pieces of metadata (plotted earlier) it uses to construct its trajectory? Which is correct biologically?"
   ]
  },
  {
   "cell_type": "markdown",
   "metadata": {},
   "source": [
    "**Answer:**"
   ]
  }
 ],
 "metadata": {
  "kernelspec": {
   "display_name": "R",
   "language": "R",
   "name": "ir"
  },
  "language_info": {
   "codemirror_mode": "r",
   "file_extension": ".r",
   "mimetype": "text/x-r-source",
   "name": "R",
   "pygments_lexer": "r",
   "version": "4.0.2"
  }
 },
 "nbformat": 4,
 "nbformat_minor": 4
}
