{
 "cells": [
  {
   "cell_type": "markdown",
   "metadata": {},
   "source": [
    "# Tutorial 4 - Working with PAGA and velocyto"
   ]
  },
  {
   "cell_type": "markdown",
   "metadata": {},
   "source": [
    "## Load required packages"
   ]
  },
  {
   "cell_type": "code",
   "execution_count": null,
   "metadata": {},
   "outputs": [],
   "source": [
    "import warnings\n",
    "warnings.simplefilter(action = \"ignore\", category = FutureWarning)\n",
    "import os\n",
    "import sys\n",
    "import re\n",
    "import copy\n",
    "import loompy\n",
    "import glob\n",
    "import igraph\n",
    "import sklearn as sk\n",
    "import scipy as sp\n",
    "import velocyto as vcy\n",
    "import scanpy as sc\n",
    "import pandas as pd\n",
    "import numpy as np\n",
    "import matplotlib.pyplot as plt\n",
    "%matplotlib inline\n",
    "from igraph import *\n",
    "from numpy_groupies import aggregate, aggregate_np\n",
    "from matplotlib import colors\n",
    "sc.logging.print_header()\n",
    "sc.settings.n_jobs = 4"
   ]
  },
  {
   "cell_type": "code",
   "execution_count": null,
   "metadata": {},
   "outputs": [],
   "source": [
    "pwd = os.getcwd()"
   ]
  },
  {
   "cell_type": "code",
   "execution_count": null,
   "metadata": {},
   "outputs": [],
   "source": [
    "pwd"
   ]
  },
  {
   "cell_type": "markdown",
   "metadata": {},
   "source": [
    "## PAGA"
   ]
  },
  {
   "cell_type": "markdown",
   "metadata": {},
   "source": [
    "By quantifying the connectivity of partitions (groups, clusters) of the single-cell graph, partition-based graph abstraction (PAGA) generates a much simpler abstracted graph (PAGA graph) of partitions, in which edge weights represent confidence in the presence of connections.\n",
    "\n",
    "See https://scanpy.readthedocs.io/en/stable/api/scanpy.tl.paga.html for more usage information"
   ]
  },
  {
   "cell_type": "markdown",
   "metadata": {},
   "source": [
    "### Data ingest"
   ]
  },
  {
   "cell_type": "code",
   "execution_count": null,
   "metadata": {},
   "outputs": [],
   "source": [
    "# Read in the loom file with scanpy as we did the h5ad file from last week\n",
    "adata = sc.read_loom(os.path.join(pwd, \"MACA_bonemarrow_10x.loom\"))\n",
    "adata.var_names_make_unique()\n",
    "\n",
    "# The loom file came from velocyto's preprocessing tool, which splits the UMIs\n",
    "# into three groups: those from spliced transcripts, unspliced transcripts\n",
    "# those that are ambiguous. By default .X is set to the spliced UMIs,\n",
    "# we reset that here to include all UMIs for PAGA\n",
    "adata.X = adata.layers[\"matrix\"].copy()\n",
    "\n",
    "# Create a gene metadata column called 'Gene' that stores the gene symbols\n",
    "# This is for velocyto later\n",
    "adata.var['Gene'] = adata.var.index\n",
    "\n",
    "adata"
   ]
  },
  {
   "cell_type": "code",
   "execution_count": null,
   "metadata": {},
   "outputs": [],
   "source": [
    "# Read in the cellular metadata\n",
    "adata.obs = pd.read_csv(os.path.join(pwd, \"MACA_bonemarrow_10x_metadata.txt\"),\n",
    "                        index_col=3,\n",
    "                        delimiter=\"\\t\")\n",
    "\n",
    "# Remove an unused index column\n",
    "adata.obs.drop('phenotype', axis=1, inplace=True)\n",
    "\n",
    "# Rename the columns \"order\" and \"loomID\" metadata columns to more informative names\n",
    "adata.obs.rename({'order': 'free_annotation', 'loomID': 'cluster'}, axis=1, inplace=True)\n",
    "\n",
    "# Create a cell metadata column called 'CellID' that stores the cell names\n",
    "# This is for velocyto later\n",
    "adata.obs['CellID'] = adata.obs.index\n",
    "\n",
    "# Creates a cell metadata column called \"SampleID\" that stores the 10x channel\n",
    "# each cell came from. We. use the sub() function from the re library to obtain\n",
    "# the channel information with a list comprehension loop\n",
    "adata.obs['SampleID'] = [re.sub('^(10X_P[0-9]{1,2}_[0-9]{1,2})_possorted_genome_.*$', '\\\\1', i) for i in adata.obs.index]\n",
    "adata.obs"
   ]
  },
  {
   "cell_type": "code",
   "execution_count": null,
   "metadata": {},
   "outputs": [],
   "source": [
    "# Save a copy of adata for later subsetting\n",
    "adata_raw = copy.deepcopy(adata)"
   ]
  },
  {
   "cell_type": "code",
   "execution_count": null,
   "metadata": {},
   "outputs": [],
   "source": [
    "# Keep only monocytes and granulocytes and their progenitors\n",
    "# This simplifies the trajectory analysis so we can more easily\n",
    "# apply all four tools across the same dataset\n",
    "adata = adata[[i in ['Monocytes', 'Monocyte_progenitors', 'Stem_Progenitors', 'Granulocyte_progenitors', 'Granulocytes'] for i in list(adata.obs.free_annotation)]]\n",
    "adata_raw = adata_raw[[i in ['Monocytes', 'Monocyte_progenitors', 'Stem_Progenitors', 'Granulocyte_progenitors', 'Granulocytes'] for i in list(adata_raw.obs.free_annotation)]]\n",
    "adata"
   ]
  },
  {
   "cell_type": "code",
   "execution_count": null,
   "metadata": {},
   "outputs": [],
   "source": []
  },
  {
   "cell_type": "markdown",
   "metadata": {},
   "source": [
    "### scanpy clustering"
   ]
  },
  {
   "cell_type": "code",
   "execution_count": null,
   "metadata": {},
   "outputs": [],
   "source": [
    "plt.rcParams['figure.figsize'] = [12, 6]\n",
    "\n",
    "# Run through the boilerplate scanpy procedure from normalization\n",
    "# to feature selection to principle component analysis from last week\n",
    "sc.pp.normalize_total(adata, target_sum=1e4)\n",
    "sc.pp.log1p(adata)\n",
    "adata.raw = adata\n",
    "sc.pp.highly_variable_genes(adata, min_mean=0.0125, max_mean=6, min_disp=0.5)\n",
    "sc.pl.highly_variable_genes(adata)\n",
    "sc.pp.scale(adata, max_value=10)\n",
    "sc.tl.pca(adata, svd_solver='arpack', n_comps=30)\n",
    "sc.pl.pca_variance_ratio(adata, n_pcs=30)"
   ]
  },
  {
   "cell_type": "code",
   "execution_count": null,
   "metadata": {},
   "outputs": [],
   "source": [
    "plt.rcParams['figure.figsize'] = [10, 10]\n",
    "\n",
    "# Cluster the data using the same approach as last week\n",
    "sc.pp.neighbors(adata, n_neighbors=50, n_pcs=8)\n",
    "sc.tl.leiden(adata, resolution=0.25)\n",
    "\n",
    "# Reduce the principle compnents used in clustering down to 2 dimensions with the\n",
    "# ForceAtlas2 algortithm. This step is conceptually similar to UMAP, but is \n",
    "# optimized for trajectories and dynamic processes. See Jacomy et al (2014) PLoS One\n",
    "# For more information about the algorithm\n",
    "sc.tl.draw_graph(adata)\n",
    "\n",
    "# Plot cells based on their coordinates from ForceAtlas2, paint on the\n",
    "# free_annotation's from MACA and the leiden clustering\n",
    "sc.pl.draw_graph(adata, color=[\"free_annotation\", \"leiden\"], legend_loc=\"on data\", legend_fontsize=14)"
   ]
  },
  {
   "cell_type": "markdown",
   "metadata": {},
   "source": [
    "**Question:** Do the Leiden clusters align with the cellular annotations?"
   ]
  },
  {
   "cell_type": "markdown",
   "metadata": {},
   "source": [
    "**Answer:**"
   ]
  },
  {
   "cell_type": "code",
   "execution_count": null,
   "metadata": {},
   "outputs": [],
   "source": [
    "# Calculate genes enriched in each cellular annotation\n",
    "sc.tl.rank_genes_groups(adata, groupby=\"free_annotation\", method=\"wilcoxon\")"
   ]
  },
  {
   "cell_type": "code",
   "execution_count": null,
   "metadata": {},
   "outputs": [],
   "source": [
    "plt.rcParams['figure.figsize'] = [12, 12]\n",
    "sc.set_figure_params(fontsize=12)\n",
    "\n",
    "# Plot expression of 4 markers per annotation\n",
    "sc.pl.draw_graph(adata, color=np.ravel(np.array(pd.DataFrame(adata.uns['rank_genes_groups']['names']).head(4).T)), size=50)"
   ]
  },
  {
   "cell_type": "markdown",
   "metadata": {},
   "source": [
    "**Question:** Do any of the groups of genes identified seem to represent technical axes of variation? If so, which one and what is the artifact?"
   ]
  },
  {
   "cell_type": "markdown",
   "metadata": {},
   "source": [
    "**Answer:**"
   ]
  },
  {
   "cell_type": "code",
   "execution_count": null,
   "metadata": {},
   "outputs": [],
   "source": [
    "# Calculate genes enriched in each leiden cluster\n",
    "sc.tl.rank_genes_groups(adata, groupby=\"leiden\", method=\"wilcoxon\")"
   ]
  },
  {
   "cell_type": "code",
   "execution_count": null,
   "metadata": {},
   "outputs": [],
   "source": [
    "plt.rcParams['figure.figsize'] = [12, 12]\n",
    "sc.set_figure_params(fontsize=12)\n",
    "\n",
    "# Plot expression of 4 markers per cluster\n",
    "sc.pl.draw_graph(adata, color=np.ravel(np.array(pd.DataFrame(adata.uns['rank_genes_groups']['names']).head(4).T)), size=50)"
   ]
  },
  {
   "cell_type": "markdown",
   "metadata": {},
   "source": [
    "**Question:** Do any of the annotations seem to represent more than one cell type? If so, which one? "
   ]
  },
  {
   "cell_type": "markdown",
   "metadata": {},
   "source": [
    "**Answer:**"
   ]
  },
  {
   "cell_type": "code",
   "execution_count": null,
   "metadata": {},
   "outputs": [],
   "source": [
    "# Python dictionaries allow us to store information in keys, for exmaple:\n",
    "# my_dict = {'key': value, 'science': 'is', 'really': 'fun'}\n",
    "# my_dict['science'] will return \"is\" and my_dict['really'] will return \"fun\"\n",
    "# In this case we'll use a dict where each \"key\" is a cell type and the information stored\n",
    "# (the \"value\") is a data frame of differentially expressed genes for that cell type\n",
    "marker_genes = {}\n",
    "\n",
    "    \n",
    "# Python has something called comprehension that allows for 1-liner loops\n",
    "# In the simplest case, something like [print(x) for x in [1, 2, 3]] would print 1, 2 and 3 on separate lines.\n",
    "# It is equivalent to\n",
    "#\n",
    "# for x in [1, 2, 3]:\n",
    "#    print(x)\n",
    "#\n",
    "# In this case, we use two nested loops\n",
    "# The inner loop, for key in ['names', 'pvals_adj', 'logfoldchanges'], pulls the gene symbols, adjusted p-values,\n",
    "# and logfoldchanges from the differential gene expression results in the temporary adata object for each\n",
    "# cell type, which is set by the outer loop, for group in groups. The outer loop then stores the results of the inner\n",
    "# loop to a temporary dictionary with the cell types name as the key.\n",
    "result = adata.uns['rank_genes_groups']\n",
    "groups = result['names'].dtype.names\n",
    "marker_genes = {group: pd.DataFrame({key: result[key][group] for key in ['names', 'pvals_adj', 'logfoldchanges']}) for group in groups}"
   ]
  },
  {
   "cell_type": "code",
   "execution_count": null,
   "metadata": {},
   "outputs": [],
   "source": [
    "# Plot the top 25 genes for any cluster, right now cluster 5 is shown\n",
    "marker_genes['6'].iloc[:50,:]"
   ]
  },
  {
   "cell_type": "markdown",
   "metadata": {},
   "source": [
    "**Question:** Are there clusters that appear off of the main trajectory from HSCs to either granulocytes or monocytes? Hint: Look at the first code block below."
   ]
  },
  {
   "cell_type": "markdown",
   "metadata": {},
   "source": [
    "**Answer**: "
   ]
  },
  {
   "cell_type": "markdown",
   "metadata": {},
   "source": [
    "### PAGA and pseudotime calculation"
   ]
  },
  {
   "cell_type": "code",
   "execution_count": null,
   "metadata": {},
   "outputs": [],
   "source": [
    "# If there are off-trajectory cells, remove them. If you want to remove clusters\n",
    "# 4 and 7 change ['clusters', 'to', 'remove'] to ['4', '7']\n",
    "adata = adata_raw[[i not in ['4', '7'] for i in list(adata.obs.leiden)]]"
   ]
  },
  {
   "cell_type": "code",
   "execution_count": null,
   "metadata": {},
   "outputs": [],
   "source": [
    "plt.rcParams['figure.figsize'] = [12, 6]\n",
    "\n",
    "# Run through the boilerplate scanpy procedure from normalization\n",
    "# to feature selection to principle component analysis from last week\n",
    "# without the off-trajectory clusters\n",
    "sc.pp.normalize_total(adata, target_sum=1e4)\n",
    "sc.pp.log1p(adata)\n",
    "adata.raw = adata\n",
    "sc.pp.highly_variable_genes(adata, min_mean=0.0125, max_mean=6, min_disp=0.5)\n",
    "sc.pl.highly_variable_genes(adata)\n",
    "sc.pp.scale(adata, max_value=10)\n",
    "sc.tl.pca(adata, svd_solver='arpack', n_comps=30)\n",
    "sc.pl.pca_variance_ratio(adata, n_pcs=30)"
   ]
  },
  {
   "cell_type": "code",
   "execution_count": null,
   "metadata": {},
   "outputs": [],
   "source": [
    "plt.rcParams['figure.figsize'] = [10, 10]\n",
    "\n",
    "# Re-run neighbors, leiden, and ForceAtlas2 without the off-trajectory cells\n",
    "sc.pp.neighbors(adata, n_neighbors=50, n_pcs=7)\n",
    "sc.tl.leiden(adata, resolution=0.25)\n",
    "sc.tl.draw_graph(adata)\n",
    "\n",
    "# Plot the cells with the new ForceAtlas2 coordinates\n",
    "sc.pl.draw_graph(adata, color=[\"free_annotation\", \"leiden\"], legend_loc=\"on data\", legend_fontsize=14)"
   ]
  },
  {
   "cell_type": "code",
   "execution_count": null,
   "metadata": {},
   "outputs": [],
   "source": [
    "plt.rcParams['figure.figsize'] = [10, 10]\n",
    "\n",
    "# Run PAGA, with it aware of the leiden clustering\n",
    "# See. \n",
    "sc.tl.paga(adata, groups=\"leiden\")\n",
    "\n",
    "# Plot the relationships and their strengths between each cluster\n",
    "sc.pl.paga(adata)"
   ]
  },
  {
   "cell_type": "code",
   "execution_count": null,
   "metadata": {},
   "outputs": [],
   "source": [
    "plt.rcParams['figure.figsize'] = [10, 10]\n",
    "\n",
    "# Re-run and re-plot ForceAtlas2 with it aware of the PAGA relationships\n",
    "sc.tl.draw_graph(adata, init_pos='paga')\n",
    "sc.pl.draw_graph(adata, color=['free_annotation', 'leiden'], legend_loc=\"on data\", legend_fontsize=14)"
   ]
  },
  {
   "cell_type": "code",
   "execution_count": null,
   "metadata": {},
   "outputs": [],
   "source": [
    "plt.rcParams['figure.figsize'] = [10, 10]\n",
    "\n",
    "# Set the starting cell cluster to 5 (which corresponds with HSCs)\n",
    "# This is required so the pseudotime algortihm below\n",
    "# See https://scanpy.readthedocs.io/en/stable/api/scanpy.tl.dpt.html#scanpy.tl.dpt\n",
    "# for more usage information on sc.tl.dpt\n",
    "adata.uns['iroot'] = np.flatnonzero(adata.obs.leiden  == '5')[0]\n",
    "sc.tl.dpt(adata, n_dcs=7)\n",
    "\n",
    "# Plot the pseudotime on revised ForceAtlas2 coordinates\n",
    "sc.pl.draw_graph(adata, color=['dpt_pseudotime'], legend_loc=\"on data\", legend_fontsize=14)"
   ]
  },
  {
   "cell_type": "code",
   "execution_count": null,
   "metadata": {},
   "outputs": [],
   "source": [
    "plt.rcParams['figure.figsize'] = [6, 6]\n",
    "# Plot some differentially expressed genes from above that were along the trajectory\n",
    "sc.pl.draw_graph(adata, color=[\"Ctss\", \"Lgals1\", \"Ctsg\", \"Hmgn2\", \"Mmp8\"], legend_loc=\"on data\", legend_fontsize=14, ncols=2)"
   ]
  },
  {
   "cell_type": "markdown",
   "metadata": {},
   "source": [
    "**Question:** Conceptually, how could you use pesudotime and the PAGA trajectories to to refine your differential gene expression analysis?"
   ]
  },
  {
   "cell_type": "markdown",
   "metadata": {},
   "source": [
    "**Answer:**"
   ]
  },
  {
   "cell_type": "code",
   "execution_count": null,
   "metadata": {},
   "outputs": [],
   "source": [
    "# Write the PAGA loom file to disk for use with velocity\n",
    "adata.write_loom(os.path.join(pwd, \"MACA_bonemarrow_10x_PAGA.loom\"))"
   ]
  },
  {
   "cell_type": "code",
   "execution_count": null,
   "metadata": {},
   "outputs": [],
   "source": [
    "# Write out UMI table and cellular and gene metadata for monocle3 later\n",
    "# Opening a loom file in R, while possible, has gotten more difficult recently\n",
    "# as their use has waned and support diminshed by major packages\n",
    "UMIs = pd.DataFrame(data=adata.layers[\"matrix\"].T.todense(),\n",
    "                    columns=adata.obs_names, \n",
    "                    index=adata.var_names)\n",
    "UMIs['Genes'] = UMIs.index\n",
    "UMIs = UMIs.groupby('Genes').sum()\n",
    "UMIs.to_csv(os.path.join(pwd, 'MACA_bonemarrow_10x.csv'))\n",
    "\n",
    "adata.obs.to_csv(os.path.join(pwd, 'MACA_bonemarrow_10x_obs.csv'))\n",
    "\n",
    "adata.var[~adata.var.Gene.duplicated()].to_csv(os.path.join(pwd, 'MACA_bonemarrow_10x_var.csv'))"
   ]
  },
  {
   "cell_type": "markdown",
   "metadata": {},
   "source": [
    "## Velocyto"
   ]
  },
  {
   "cell_type": "markdown",
   "metadata": {},
   "source": [
    "RNA velocity is a high-dimensional vector that predicts the future state of individual cells on a timescale of hours. RNA velocity is the time derivative of the gene expression state and can be directly estimated by distinguishing between unspliced and spliced mRNAs in common single-cell RNA sequencing protocols. See Manno et al (2018) _Nature_ for more details\n",
    "\n",
    "And http://velocyto.org/velocyto.py/index.html for usage information. We highly recommend you read their supplementary note on how the algorithm works. While technical, it lays out their model _very_ clearly. You can find it at https://static-content.springer.com/esm/art%3A10.1038%2Fs41586-018-0414-6/MediaObjects/41586_2018_414_MOESM1_ESM.pdf"
   ]
  },
  {
   "cell_type": "markdown",
   "metadata": {},
   "source": [
    "### Data ingest"
   ]
  },
  {
   "cell_type": "code",
   "execution_count": null,
   "metadata": {},
   "outputs": [],
   "source": [
    "# Load the loom file in as a velocyto object\n",
    "vlm = vcy.VelocytoLoom(os.path.join(pwd, \"MACA_bonemarrow_10x_PAGA.loom\"))"
   ]
  },
  {
   "cell_type": "markdown",
   "metadata": {},
   "source": [
    "### Explore the velocyto object"
   ]
  },
  {
   "cell_type": "code",
   "execution_count": null,
   "metadata": {},
   "outputs": [],
   "source": [
    "# Print the cellular metadata\n",
    "vlm.ca"
   ]
  },
  {
   "cell_type": "code",
   "execution_count": null,
   "metadata": {},
   "outputs": [],
   "source": [
    "# Show available metadata columns\n",
    "vlm.ca.keys()"
   ]
  },
  {
   "cell_type": "code",
   "execution_count": null,
   "metadata": {},
   "outputs": [],
   "source": [
    "# Access a the free_annotation's for the first 5 cells\n",
    "vlm.ca['free_annotation'][:5]"
   ]
  },
  {
   "cell_type": "code",
   "execution_count": null,
   "metadata": {},
   "outputs": [],
   "source": [
    "# Access the gene metadata\n",
    "vlm.ra"
   ]
  },
  {
   "cell_type": "code",
   "execution_count": null,
   "metadata": {},
   "outputs": [],
   "source": [
    "# Show available gene metadata\n",
    "vlm.ra.keys()"
   ]
  },
  {
   "cell_type": "code",
   "execution_count": null,
   "metadata": {},
   "outputs": [],
   "source": [
    "# Access the mean expression of the first 5 genes\n",
    "vlm.ra['mean'][:5]"
   ]
  },
  {
   "cell_type": "code",
   "execution_count": null,
   "metadata": {},
   "outputs": [],
   "source": [
    "# Access the UMIs array from spliced\n",
    "vlm.S"
   ]
  },
  {
   "cell_type": "code",
   "execution_count": null,
   "metadata": {},
   "outputs": [],
   "source": [
    "# Access the UMIs array from unspliced\n",
    "vlm.U"
   ]
  },
  {
   "cell_type": "code",
   "execution_count": null,
   "metadata": {},
   "outputs": [],
   "source": [
    "# Access specific genes from spliced UMIs array from the first 5 cells\n",
    "vlm.S[[i in ['Mpo', 'Ctsg'] for i in list(vlm.ra['Gene'])],:5]"
   ]
  },
  {
   "cell_type": "code",
   "execution_count": null,
   "metadata": {},
   "outputs": [],
   "source": [
    "# Access specific genes from unspliced UMIs array from the first 5 cells\n",
    "vlm.U[[i in ['Mpo', 'Ctsg'] for i in list(vlm.ra['Gene'])],:5]"
   ]
  },
  {
   "cell_type": "markdown",
   "metadata": {},
   "source": [
    "### Normalize and filter spliced and unspliced gene expression"
   ]
  },
  {
   "cell_type": "markdown",
   "metadata": {},
   "source": [
    "**Note:** The functions may look different from scanpy or Seurat, but this section is conceptually similar to how they both function"
   ]
  },
  {
   "cell_type": "code",
   "execution_count": null,
   "metadata": {},
   "outputs": [],
   "source": [
    "# Tell velocyto what each cell's type is\n",
    "vlm.set_clusters(vlm.ca['free_annotation'])"
   ]
  },
  {
   "cell_type": "code",
   "execution_count": null,
   "metadata": {},
   "outputs": [],
   "source": [
    "# Plot the fraction of spliced, ambiguous, and unspliced UMIs in each 10x run\n",
    "# Reads from unspliced pre-mRNA comes from ectopic poly-T priming\n",
    "vlm.plot_fractions()"
   ]
  },
  {
   "cell_type": "code",
   "execution_count": null,
   "metadata": {},
   "outputs": [],
   "source": [
    "# Normalize spliced and unspliced UMIs, the method is slightly different from scanpy\n",
    "# and Seurat. Each spliced or unspliced UMI is multipled by a normalization factor, \n",
    "# which is the mean number of spliced or unspliced UMIs across all cells divided by \n",
    "# each individual cells total spliced or unspliced UMIs. Normalized UMIs are set to\n",
    "# vlm.S_sz and vlm.U_sz\n",
    "#\n",
    "vlm.normalize(\"S\", size=True, log=False)\n",
    "vlm.normalize(\"U\", size=True, log=False)"
   ]
  },
  {
   "cell_type": "code",
   "execution_count": null,
   "metadata": {},
   "outputs": [],
   "source": [
    "# Filter genes out that have fewer than 30 spliced UMIs across all cells\n",
    "# or that haved spliced expression in fewer than 20 cells\n",
    "vlm.score_detection_levels(min_expr_counts=30, min_cells_express=20,\n",
    "                           min_expr_counts_U=0, min_cells_express_U=0)\n",
    "vlm.filter_genes(by_detection_levels=True)"
   ]
  },
  {
   "cell_type": "code",
   "execution_count": null,
   "metadata": {},
   "outputs": [],
   "source": [
    "plt.rcParams['figure.figsize'] = [10, 10]\n",
    "\n",
    "\n",
    "# Select the top 2000 genes based on their mean expression and variance\n",
    "# Winsorizing is a statical transformation that limits extreme values\n",
    "vlm.score_cv_vs_mean(2000, plot=True,\n",
    "                     winsorize=True,\n",
    "                     winsor_perc=(1,99.8),\n",
    "                     svr_gamma=0.01)\n",
    "vlm.filter_genes(by_cv_vs_mean=True)"
   ]
  },
  {
   "cell_type": "code",
   "execution_count": null,
   "metadata": {},
   "outputs": [],
   "source": [
    "plt.rcParams['figure.figsize'] = [12, 6]\n",
    "\n",
    "# Filter genes out that have fewer than 25 unspliced UMIs across all cells\n",
    "# or that haved unspliced expression in fewer than 20 cells\n",
    "vlm.score_detection_levels(min_expr_counts=0, min_cells_express=0,\n",
    "                           min_expr_counts_U=25, min_cells_express_U=20)\n",
    "\n",
    "vlm.filter_genes(by_detection_levels=True)"
   ]
  },
  {
   "cell_type": "code",
   "execution_count": null,
   "metadata": {},
   "outputs": [],
   "source": [
    "# Normalize by total cell counts and log-transform the data\n",
    "# The log-transformed values are stored in vlm.S_norm and vlm.U_norm\n",
    "vlm.normalize_by_total(min_perc_U=0.5, plot=True)\n",
    "\n",
    "# Adjust the splice count based on the relationship between total spliced and unspliced UMIs\n",
    "vlm.adjust_totS_totU(normalize_total=True, fit_with_low_U=False, svr_C=1, svr_gamma=1e-04)"
   ]
  },
  {
   "cell_type": "markdown",
   "metadata": {},
   "source": [
    "**Question:** How does the number of spliced UMIs compare with unspliced UMIs?"
   ]
  },
  {
   "cell_type": "markdown",
   "metadata": {},
   "source": [
    "**Answer:**"
   ]
  },
  {
   "cell_type": "code",
   "execution_count": null,
   "metadata": {},
   "outputs": [],
   "source": [
    "plt.rcParams['figure.figsize'] = [10, 10]\n",
    "\n",
    "# Run principle component analysis and plot each components ratio of total variance\n",
    "vlm.perform_PCA()\n",
    "plt.plot(np.cumsum(vlm.pca.explained_variance_ratio_)[:100])\n",
    "n_comps = np.where(np.diff(np.diff(np.cumsum(vlm.pca.explained_variance_ratio_))>0.0055))[0][0]\n",
    "vlm.pcs[:,1] *= -1 # flip for consistency with previous version"
   ]
  },
  {
   "cell_type": "code",
   "execution_count": null,
   "metadata": {},
   "outputs": [],
   "source": [
    "# For the preparation of the gamma fit we smooth the data using a kNN neighbors\n",
    "# pooling approach. kNN neighbors can be calculated directly in gene expression\n",
    "# space or reduced PCA space\n",
    "#\n",
    "# Creates smoothed splice and unspliced expression matrices on vlm.Sx and vlm.Ux\n",
    "k=500\n",
    "vlm.knn_imputation(n_pca_dims=n_comps,k=k, balanced=True,\n",
    "                   b_sight=np.minimum(k*8, vlm.S.shape[1]-1),\n",
    "                   b_maxl=np.minimum(k*4, vlm.S.shape[1]-1),\n",
    "                   n_jobs=4)"
   ]
  },
  {
   "cell_type": "code",
   "execution_count": null,
   "metadata": {},
   "outputs": [],
   "source": [
    "# Normalize to median cell sizes and then fit gamma to genes that\n",
    "# survived the filtering step run. Gamma represents the rate of degredation\n",
    "vlm.normalize_median()\n",
    "vlm.fit_gammas(maxmin_perc=[2,95], limit_gamma=True)"
   ]
  },
  {
   "cell_type": "markdown",
   "metadata": {},
   "source": [
    "### Model RNA velocity with first order rate kinetics"
   ]
  },
  {
   "cell_type": "code",
   "execution_count": null,
   "metadata": {},
   "outputs": [],
   "source": [
    "# Predict U given the fitted gammas\n",
    "vlm.predict_U()\n",
    "\n",
    "# Calculate RNA velocity\n",
    "vlm.calculate_velocity()\n",
    "\n",
    "# Calculate the change in gene expression (dS/dt) assuming constant velocity\n",
    "vlm.calculate_shift(assumption=\"constant_velocity\")\n",
    "\n",
    "# Extrapolate gene expression based on velocity\n",
    "vlm.extrapolate_cell_at_t(delta_t=1)\n",
    "\n",
    "# Set the display embedding as the first 2 principle components\n",
    "vlm.Pcs = np.array(vlm.pcs[:,:2], order=\"C\")"
   ]
  },
  {
   "cell_type": "markdown",
   "metadata": {},
   "source": [
    "### Calculate new position of cells in chosen embedding"
   ]
  },
  {
   "cell_type": "markdown",
   "metadata": {},
   "source": [
    "**Note:** In this case, we are going to display the cells on their first 2 principle components"
   ]
  },
  {
   "cell_type": "code",
   "execution_count": null,
   "metadata": {},
   "outputs": [],
   "source": [
    "# Estimate the probability a cell represents a differentiation starting point\n",
    "vlm.estimate_transition_prob(hidim=\"Sx_sz\", embed=\"Pcs\", transform=\"log\", psc=1, n_neighbors=150, knn_random=True, sampled_fraction=1)"
   ]
  },
  {
   "cell_type": "code",
   "execution_count": null,
   "metadata": {},
   "outputs": [],
   "source": [
    "# Use the transition probability to project the velocity direction on the embedding\n",
    "vlm.calculate_embedding_shift(sigma_corr = 0.05, expression_scaling=True)"
   ]
  },
  {
   "cell_type": "code",
   "execution_count": null,
   "metadata": {},
   "outputs": [],
   "source": [
    "# Calculate the vetor field for how cell expression changes across the embedding\n",
    "vlm.calculate_grid_arrows(smooth=0.9, steps=(25, 25), n_neighbors=100)"
   ]
  },
  {
   "cell_type": "code",
   "execution_count": null,
   "metadata": {},
   "outputs": [],
   "source": [
    "# Plot the cells in the first two principle components with the vector field of arrows overlaid\n",
    "plt.figure(None,(10,10))\n",
    "vlm.plot_grid_arrows(scatter_kwargs_dict={\"alpha\":0.7, \"lw\":0.7, \"edgecolor\":\"0.4\", \"s\":70, \"rasterized\":True},\n",
    "                     min_mass=2.9, angles='xy', scale_units='xy',\n",
    "                     headaxislength=2.75, headlength=5, headwidth=4.8, quiver_scale=0.35, scale_type=\"absolute\")\n",
    "\n",
    "# This inverts PC1, purely for stylistic reasons\n",
    "plt.gca().invert_xaxis()\n",
    "\n",
    "# This loops through the free annotations and plots a label at each groups median position\n",
    "for i in vlm.ca[\"free_annotation\"]:\n",
    "    Pcs_m = np.median(vlm.Pcs[vlm.ca[\"free_annotation\"] == i, :], 0)\n",
    "    plt.text(Pcs_m[0], Pcs_m[1], str(vlm.ca[\"free_annotation\"][vlm.ca[\"free_annotation\"] == i][0]),\n",
    "             fontsize=13, bbox={\"facecolor\":\"w\", \"alpha\":0.6})\n",
    "    \n",
    "# Removes axes\n",
    "plt.axis(\"off\")\n",
    "plt.axis(\"equal\");"
   ]
  },
  {
   "cell_type": "code",
   "execution_count": null,
   "metadata": {},
   "outputs": [],
   "source": [
    "plt.rcParams['figure.figsize'] = [10, 10]\n",
    "\n",
    "# Plot the cells that are upregulating (above the line) or downregulating\n",
    "# each of the listed genes (from earlier differential gene expression analysis)\n",
    "# The cells are colored by their annotation identity (as above).\n",
    "vlm.plot_phase_portraits([\"Ctss\", \"Lgals1\", \"Ctsg\", \"Hmgn2\", \"Mmp8\"])"
   ]
  },
  {
   "cell_type": "markdown",
   "metadata": {},
   "source": [
    "**Question:** Do the up- and down-regulation scores in the phase plots above make sense? Hint: It may be useful to compare with leiden cluster expression from earlier."
   ]
  },
  {
   "cell_type": "markdown",
   "metadata": {},
   "source": [
    "**Answer:**"
   ]
  },
  {
   "cell_type": "markdown",
   "metadata": {},
   "source": [
    "### Find genes enriched as a function of pseudotime"
   ]
  },
  {
   "cell_type": "code",
   "execution_count": null,
   "metadata": {},
   "outputs": [],
   "source": [
    "# Set the total number of cells\n",
    "n_cells = vlm.cluster_ix.shape[0]\n",
    "\n",
    "# Number of cells per cluster\n",
    "sizes = np.bincount(vlm.cluster_ix)\n",
    "\n",
    "# Number of nonzero values per cluster\n",
    "nnz = aggregate(vlm.cluster_ix, (vlm.Sx_sz>0).astype(float), func=\"sum\", axis=1)\n",
    "\n",
    "# Mean value per cluster\n",
    "means = aggregate(vlm.cluster_ix, vlm.Sx_sz, func=\"mean\", axis=1)\n",
    "\n",
    "# Non-zeros and means over all cells\n",
    "nnz_overall, means_overall = (vlm.Sx_sz>0).sum(1), vlm.Sx_sz.mean(1)\n",
    "\n",
    "# Scale by number of cells\n",
    "f_nnz = nnz / sizes\n",
    "f_nnz_overall = nnz_overall / n_cells\n",
    "\n",
    "# Means and fraction non-zero values in other clusters (per cluster)\n",
    "means_other = ((means_overall * n_cells)[None].T - (means * sizes)) / (n_cells - sizes)\n",
    "f_nnz_other = ((f_nnz_overall * n_cells)[None].T - (f_nnz * sizes)) / (n_cells - sizes)\n",
    "\n",
    "enrichment = (f_nnz + 0.1) / (f_nnz_overall[None].T + 0.1) * (means + 0.01) / (means_overall[None].T + 0.01)"
   ]
  },
  {
   "cell_type": "code",
   "execution_count": null,
   "metadata": {},
   "outputs": [],
   "source": [
    "# Create dictionary of enriched genes\n",
    "enriched = {}\n",
    "for i in range(enrichment.shape[1]):\n",
    "    tmp = pd.DataFrame([enrichment[:,i][np.argsort(enrichment[:,i])[::-1]][:350],vlm.ra[\"Gene\"][np.argsort(enrichment[:,i])[::-1]][:350]]).T\n",
    "    tmp.rename({0: 'score', 1: 'gene'}, inplace=True, axis=1)\n",
    "    tmp.index = tmp.gene\n",
    "    enriched[i] = tmp"
   ]
  },
  {
   "cell_type": "code",
   "execution_count": null,
   "metadata": {},
   "outputs": [],
   "source": [
    "# Print table of top 25 enriched genes per identity\n",
    "# 0 = Granulocyte progenitors, 1 = Granulocytes, 2 = Monocyte progenitors\n",
    "# 3 = Monocytes, 4 = HSCs\n",
    "enriched[4][:25]"
   ]
  },
  {
   "cell_type": "code",
   "execution_count": null,
   "metadata": {},
   "outputs": [],
   "source": [
    "plt.figure(None,(10,10))\n",
    "vlm.plot_expression_as_color('Ak4', imputed=True, which_tsne=\"Pcs\")\n",
    "plt.gca().invert_xaxis()\n",
    "\n",
    "plt.figure(None,(10,10))\n",
    "vlm.plot_expression_as_color('Chit1', imputed=True, which_tsne=\"Pcs\")\n",
    "plt.gca().invert_xaxis()\n",
    "\n",
    "plt.figure(None,(10,10))\n",
    "vlm.plot_expression_as_color('Tmem45a2', imputed=True, which_tsne=\"Pcs\")\n",
    "plt.gca().invert_xaxis()\n",
    "\n",
    "plt.figure(None,(10,10))\n",
    "vlm.plot_expression_as_color('Gria3', imputed=True, which_tsne=\"Pcs\")\n",
    "plt.gca().invert_xaxis()\n",
    "\n",
    "plt.figure(None,(10,10))\n",
    "vlm.plot_expression_as_color('Mx1', imputed=True, which_tsne=\"Pcs\")\n",
    "plt.gca().invert_xaxis()"
   ]
  },
  {
   "cell_type": "markdown",
   "metadata": {},
   "source": [
    "### Further exploration of the velocyto object"
   ]
  },
  {
   "cell_type": "code",
   "execution_count": null,
   "metadata": {},
   "outputs": [],
   "source": [
    "# Log-transformed, normalized spliced UMIs\n",
    "vlm.S_norm"
   ]
  },
  {
   "cell_type": "code",
   "execution_count": null,
   "metadata": {},
   "outputs": [],
   "source": [
    "# Normalized spliced UMIs\n",
    "vlm.S_sz "
   ]
  },
  {
   "cell_type": "code",
   "execution_count": null,
   "metadata": {},
   "outputs": [],
   "source": [
    "# Smoothed spliced UMIs\n",
    "vlm.Sx"
   ]
  },
  {
   "cell_type": "code",
   "execution_count": null,
   "metadata": {},
   "outputs": [],
   "source": [
    "# Smoothed, normalized spliced UMIs\n",
    "vlm.Sx_sz"
   ]
  },
  {
   "cell_type": "code",
   "execution_count": null,
   "metadata": {},
   "outputs": [],
   "source": [
    "# Smoothed, normalized spliced UMIs adjusted based on their RNA velocity\n",
    "vlm.Sx_sz_t"
   ]
  },
  {
   "cell_type": "code",
   "execution_count": null,
   "metadata": {},
   "outputs": [],
   "source": [
    "# Fit gammas for each gene\n",
    "vlm.gammas"
   ]
  },
  {
   "cell_type": "code",
   "execution_count": null,
   "metadata": {},
   "outputs": [],
   "source": [
    "# Predicted unspliced UMIs based on RNA velocities\n",
    "vlm.Upred"
   ]
  },
  {
   "cell_type": "code",
   "execution_count": null,
   "metadata": {},
   "outputs": [],
   "source": [
    "# Coordinates for the visualization (first 2 principle components)\n",
    "vlm.embedding"
   ]
  },
  {
   "cell_type": "code",
   "execution_count": null,
   "metadata": {},
   "outputs": [],
   "source": [
    "# Shift for each cell based on predicted future transcriptome\n",
    "vlm.delta_embedding"
   ]
  },
  {
   "cell_type": "code",
   "execution_count": null,
   "metadata": {},
   "outputs": [],
   "source": [
    "# Per cell per gene RNA velocities as dS/dt\n",
    "vlm.delta_S"
   ]
  },
  {
   "cell_type": "markdown",
   "metadata": {},
   "source": [
    "**Question:** Conceptually, how could you use the embedding shifts or RNA velocities to refine your differntial gene expression analysis?"
   ]
  },
  {
   "cell_type": "markdown",
   "metadata": {},
   "source": [
    "**Answer:**"
   ]
  }
 ],
 "metadata": {
  "kernelspec": {
   "display_name": "Python 3",
   "language": "python",
   "name": "python3"
  },
  "language_info": {
   "codemirror_mode": {
    "name": "ipython",
    "version": 3
   },
   "file_extension": ".py",
   "mimetype": "text/x-python",
   "name": "python",
   "nbconvert_exporter": "python",
   "pygments_lexer": "ipython3",
   "version": "3.8.5"
  }
 },
 "nbformat": 4,
 "nbformat_minor": 4
}
