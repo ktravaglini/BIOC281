{
 "cells": [
  {
   "cell_type": "markdown",
   "metadata": {},
   "source": [
    "Tutorial 4 Trajectory inference"
   ]
  },
  {
   "cell_type": "code",
   "execution_count": 3,
   "metadata": {},
   "outputs": [],
   "source": [
    "library(CytoTRACE)\n",
    "library(monocle3)\n",
    "library(ggplot2)\n",
    "library(reshape2)\n",
    "library(ggpubr)\n",
    "#library(ggthemes)\n",
    "library(RColorBrewer)"
   ]
  },
  {
   "cell_type": "code",
   "execution_count": null,
   "metadata": {},
   "outputs": [],
   "source": [
    "y <- read.csv(\"CNCC_Minus_Batch1_Stages-counts.csv\", row.names =1)\n",
    "pheno <- read.table(\"Cell_Cluster_ID.txt\", row.names =1, comment.char = \"\", check.names = F, header = T)\n",
    "pheno <- cbind.data.frame(pheno, Somite = gsub(\".*\\\\.\", \"\", rownames(pheno)))\n",
    "pheno$Cluster <- paste0(\"C\", pheno$Cluster)\n",
    "y2 <- y[,rownames(pheno)]\n",
    "clusters<- pheno$Cluster_Name\n",
    "names(clusters) <- rownames(pheno)"
   ]
  }
 ],
 "metadata": {
  "kernelspec": {
   "display_name": "R",
   "language": "R",
   "name": "ir"
  },
  "language_info": {
   "codemirror_mode": "r",
   "file_extension": ".r",
   "mimetype": "text/x-r-source",
   "name": "R",
   "pygments_lexer": "r",
   "version": "4.0.2"
  }
 },
 "nbformat": 4,
 "nbformat_minor": 4
}
