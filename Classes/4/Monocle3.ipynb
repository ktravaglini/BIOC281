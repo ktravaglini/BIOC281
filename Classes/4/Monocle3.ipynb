{
 "cells": [
  {
   "cell_type": "markdown",
   "metadata": {},
   "source": [
    "Tutorial 4 Trajectory inference"
   ]
  },
  {
   "cell_type": "code",
   "execution_count": null,
   "metadata": {},
   "outputs": [],
   "source": [
    "library(CytoTRACE)\n",
    "library(monocle3)\n",
    "library(ggplot2)\n",
    "library(reshape2)\n",
    "library(ggpubr)\n",
    "#library(ggthemes)\n",
    "library(RColorBrewer)"
   ]
  },
  {
   "cell_type": "code",
   "execution_count": null,
   "metadata": {},
   "outputs": [],
   "source": [
    "y <- read.csv(\"MACA_bonemarrow_10x_expr.txt\", row.names =1)\n",
    "pheno <- read.table(\"Cell_Cluster_ID.txt\", row.names =1, comment.char = \"\", check.names = F, header = T)\n",
    "pheno <- cbind.data.frame(pheno, Somite = gsub(\".*\\\\.\", \"\", rownames(pheno)))\n",
    "pheno$Cluster <- paste0(\"C\", pheno$Cluster)\n",
    "y2 <- y[,rownames(pheno)]\n",
    "clusters<- pheno$Cluster_Name\n",
    "names(clusters) <- rownames(pheno)"
   ]
  },
  {
   "cell_type": "code",
   "execution_count": null,
   "metadata": {},
   "outputs": [],
   "source": [
    "coord <- read.csv(\"tsne-coordinates.csv\", row.names =1)\n",
    "coord <- coord[rownames(pheno),]\n",
    "#Monocle\n",
    "genes <- cbind.data.frame(rownames(y2))\n",
    "rownames(genes) <- rownames(y2)\n",
    "cds <- new_cell_data_set(data.matrix(y2),\n",
    "                         cell_metadata = data.frame(pheno),\n",
    "                         gene_metadata = genes)\n",
    "cds <- preprocess_cds(cds, num_dim = 100)\n",
    "cds2 <- reduce_dimension(cds)\n",
    "cds2@int_colData$reducedDims$UMAP[,1] <- coord[,1]\n",
    "cds2@int_colData$reducedDims$UMAP[,2] <- coord[,2]\n",
    "#You can adjust resolution here which will change how the branches look in the graphs\n",
    "cds2 <- cluster_cells(cds2,cluster_method = \"louvain\")\n",
    "#cds2 <- cluster_cells(cds2,cluster_method = \"leiden\", resolution = 0.01)\n",
    "cds2@clusters$UMAP$partitions[which(cds2@clusters$UMAP$partitions != \"1\")] <- \"1\"\n",
    "cds2 <- learn_graph(cds2, use_partition = F)\n",
    "cds_subset <- order_cells(cds2)\n",
    "cds2@clusters$UMAP$clusters <- paste0(\"C\", cds2@clusters$UMAP$clusters)\n",
    "\n",
    "plot1 = plot_cells(cds2, color_cells_by='Cluster_Name', label_branch_points = F, label_roots = F, label_leaves = F, cell_size = 1, group_cells_by = \"cluster\", labels=F)\n",
    "cds2@colData$Cluster <- cds2@clusters$UMAP$clusters\n",
    "plot2 = plot_cells(cds2, color_cells_by='Cluster', label_branch_points = F, label_roots = F, label_leaves = F, cell_size = 1, group_cells_by = \"cluster\", labels=F)\n",
    "plot3 = plot_cells(cds2, color_cells_by='Somite', label_branch_points = F, label_roots = F, label_leaves = F, cell_size = 1, group_cells_by = \"cluster\", labels=F)\n",
    "plot4 = plot_cells(cds_subset,\n",
    "           color_cells_by = \"pseudotime\",\n",
    "           label_cell_groups=FALSE,\n",
    "           label_leaves=FALSE,\n",
    "           label_branch_points=FALSE,\n",
    "           graph_label_size=1.5,\n",
    "           cell_size = 1)\n",
    "\n",
    "cols1 <- unique(pheno$Color)\n",
    "names(cols1) <- unique(pheno$Cluster_Name)\n",
    "pdf(\"Monocle_plot1.pdf\", width = 5, height = 5, useDingbats = FALSE)\n",
    "plot1+\n",
    "scale_color_manual(\"legend\", values = cols1)+\n",
    "theme_Publication()+\n",
    "theme(legend.position = \"none\",\n",
    "panel.grid.major = element_blank(), \n",
    "panel.grid.minor = element_blank())\n",
    "dev.off()\n",
    "\n",
    "pdf(\"Monocle_plot2_legend.pdf\", width = 5, height = 5, useDingbats = FALSE)\n",
    "plot2+\n",
    "theme_Publication()+\n",
    "theme(legend.position = \"none\",\n",
    "panel.grid.major = element_blank(), \n",
    "panel.grid.minor = element_blank())\n",
    "dev.off()\n",
    "\n",
    "cols3 <- c(\"#fed700\", \"#fe0000\", \"#00fe01\", \"#070089\")\n",
    "names(cols3) <- unique(pheno$Somite)\n",
    "pdf(\"Monocle_plot3.pdf\", width = 5, height = 5, useDingbats = FALSE)\n",
    "plot3+\n",
    "scale_color_manual(\"legend\", values = cols3)+\n",
    "theme_Publication()+\n",
    "theme(legend.position = \"none\",\n",
    "panel.grid.major = element_blank(), \n",
    "panel.grid.minor = element_blank())\n",
    "dev.off()\n",
    "\n",
    "pdf(\"Monocle_plot4.pdf\", width = 5, height = 5, useDingbats = FALSE)\n",
    "plot4+\n",
    "scale_colour_gradientn(colours = brewer.pal(11, \"Spectral\"))+\n",
    "theme_Publication()+\n",
    "theme(legend.position = \"none\",\n",
    "panel.grid.major = element_blank(), \n",
    "panel.grid.minor = element_blank())\n",
    "dev.off()\n"
   ]
  }
 ],
 "metadata": {
  "kernelspec": {
   "display_name": "R",
   "language": "R",
   "name": "ir"
  },
  "language_info": {
   "codemirror_mode": "r",
   "file_extension": ".r",
   "mimetype": "text/x-r-source",
   "name": "R",
   "pygments_lexer": "r",
   "version": "4.0.2"
  }
 },
 "nbformat": 4,
 "nbformat_minor": 4
}
